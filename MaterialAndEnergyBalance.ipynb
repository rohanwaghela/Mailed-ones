{
 "cells": [
  {
   "cell_type": "markdown",
   "metadata": {},
   "source": [
    "# Material and Energy Balance"
   ]
  },
  {
   "cell_type": "code",
   "execution_count": 4,
   "metadata": {
    "collapsed": true
   },
   "outputs": [],
   "source": [
    "import pandas as pd\n",
    "import scipy\n",
    "from eosHSG import getCompound"
   ]
  },
  {
   "cell_type": "code",
   "execution_count": 15,
   "metadata": {
    "collapsed": false
   },
   "outputs": [],
   "source": [
    "if False:\n",
    "    methane = getCompound(\"Methane\",\"srk\")\n",
    "    T = 300 #K\n",
    "    P = 1e6 #Pa\n",
    "    Z = 1 \n",
    "    print methane.G(T, P, Z)/1e6  #Hooray!\n"
   ]
  },
  {
   "cell_type": "markdown",
   "metadata": {},
   "source": [
    "## Lets make as simple Pandas Dataframe"
   ]
  },
  {
   "cell_type": "code",
   "execution_count": 20,
   "metadata": {
    "collapsed": false
   },
   "outputs": [
    {
     "data": {
      "text/html": [
       "<div style=\"max-height:1000px;max-width:1500px;overflow:auto;\">\n",
       "<table border=\"1\" class=\"dataframe\">\n",
       "  <thead>\n",
       "    <tr style=\"text-align: right;\">\n",
       "      <th></th>\n",
       "      <th>Cities</th>\n",
       "      <th>IsEvil</th>\n",
       "      <th>Population</th>\n",
       "      <th>Ruler</th>\n",
       "    </tr>\n",
       "  </thead>\n",
       "  <tbody>\n",
       "    <tr>\n",
       "      <th>Gnd</th>\n",
       "      <td>  Gondor</td>\n",
       "      <td> False</td>\n",
       "      <td>  20000</td>\n",
       "      <td>    Denethor</td>\n",
       "    </tr>\n",
       "    <tr>\n",
       "      <th>Umb</th>\n",
       "      <td>   Umbar</td>\n",
       "      <td>  True</td>\n",
       "      <td>  10000</td>\n",
       "      <td>     Corsair</td>\n",
       "    </tr>\n",
       "    <tr>\n",
       "      <th>Num</th>\n",
       "      <td> Numenor</td>\n",
       "      <td>  True</td>\n",
       "      <td> 100000</td>\n",
       "      <td> Ar-Pharazon</td>\n",
       "    </tr>\n",
       "    <tr>\n",
       "      <th>Mor</th>\n",
       "      <td>  Mordor</td>\n",
       "      <td>  True</td>\n",
       "      <td> 500000</td>\n",
       "      <td>      Sauron</td>\n",
       "    </tr>\n",
       "  </tbody>\n",
       "</table>\n",
       "</div>"
      ],
      "text/plain": [
       "      Cities IsEvil  Population        Ruler\n",
       "Gnd   Gondor  False       20000     Denethor\n",
       "Umb    Umbar   True       10000      Corsair\n",
       "Num  Numenor   True      100000  Ar-Pharazon\n",
       "Mor   Mordor   True      500000       Sauron"
      ]
     },
     "execution_count": 20,
     "metadata": {},
     "output_type": "execute_result"
    }
   ],
   "source": [
    "df_simple = pd.DataFrame({\"Cities\":[\"Gondor\",\"Umbar\",\"Numenor\",\"Mordor\"],\n",
    "                          \"Population\":[20000, 10000, 100000, 500000],\n",
    "                          \"IsEvil\":[False, True, True, True],\n",
    "                          \"Ruler\":[\"Denethor\",\"Corsair\",\"Ar-Pharazon\",\"Sauron\"]},\n",
    "                        index = [\"Gnd\",\"Umb\",\"Num\",\"Mor\"])\n",
    "df_simple"
   ]
  },
  {
   "cell_type": "code",
   "execution_count": 22,
   "metadata": {
    "collapsed": false
   },
   "outputs": [
    {
     "data": {
      "text/plain": [
       "Cities          Gondor\n",
       "IsEvil           False\n",
       "Population       20000\n",
       "Ruler         Denethor\n",
       "Name: Gnd, dtype: object"
      ]
     },
     "execution_count": 22,
     "metadata": {},
     "output_type": "execute_result"
    }
   ],
   "source": [
    "#A pandas dataframe is a cross between a numpy array and a python dictionary.\n",
    "df_simple.loc[\"Gnd\"]  #like a dictionary"
   ]
  },
  {
   "cell_type": "code",
   "execution_count": 23,
   "metadata": {
    "collapsed": false
   },
   "outputs": [
    {
     "data": {
      "text/plain": [
       "'Gondor'"
      ]
     },
     "execution_count": 23,
     "metadata": {},
     "output_type": "execute_result"
    }
   ],
   "source": [
    "df_simple.loc[\"Gnd\"][\"Cities\"] #like a dictionary"
   ]
  },
  {
   "cell_type": "code",
   "execution_count": 25,
   "metadata": {
    "collapsed": false
   },
   "outputs": [
    {
     "data": {
      "text/plain": [
       "Gnd        GondorDenethor\n",
       "Umb          UmbarCorsair\n",
       "Num    NumenorAr-Pharazon\n",
       "Mor          MordorSauron\n",
       "dtype: object"
      ]
     },
     "execution_count": 25,
     "metadata": {},
     "output_type": "execute_result"
    }
   ],
   "source": [
    "df_simple[\"Cities\"] + df_simple[\"Ruler\"]  #like an array"
   ]
  },
  {
   "cell_type": "markdown",
   "metadata": {},
   "source": [
    "## Making a Process Stream"
   ]
  },
  {
   "cell_type": "code",
   "execution_count": 32,
   "metadata": {
    "collapsed": false
   },
   "outputs": [],
   "source": [
    "#Lets use 5 compounds: Nitrogen, Oxygen, Water, Carbon-Dioxide and Methane\n",
    "typeeos = 'pr'\n",
    "methane = getCompound(\"Methane\", typeeos)\n",
    "nitrogen = getCompound(\"Nitrogen\", typeeos)\n",
    "oxygen = getCompound(\"Oxygen\", typeeos)\n",
    "carbondioxide = getCompound(\"Carbon dioxide\",typeeos)\n",
    "water = getCompound(\"Water\",typeeos)\n",
    "dict_compounds = {\"CH4\":methane,\n",
    "                 \"N2\":nitrogen,\n",
    "                 \"O2\":oxygen,\n",
    "                 \"CO2\":carbondioxide,\n",
    "                 \"H2O\":water}  \n",
    "#dict_compounds gives us access to all the properties of each compound"
   ]
  },
  {
   "cell_type": "markdown",
   "metadata": {},
   "source": [
    "Ok.  What properties of each stream are useful to us?\n",
    "<ol>\n",
    "<li> Temperature K </li>\n",
    "<li> Pressure Pa </li>\n",
    "<li> State of the Steam (Liquid or Vapour) (we won't be bothering with mixed streams just yet) </li>\n",
    "<li> Molar Flow Rates of Each Component kmol/s</li>\n",
    "<li> Mol fractions of each component </li>\n",
    "<li> Total Molar flow rate kmol/s </li>\n",
    "<li> Total Mass Flow rate kg/s </li>\n",
    "<li> Total Enthalpy in J/s </li>\n",
    "<li> Total Entropy in J/Ks </li>\n",
    "</ol>\n",
    "<p> We will use a dataframe for this and you will see how similar this is to Excel.  Lets make the index."
   ]
  },
  {
   "cell_type": "code",
   "execution_count": 128,
   "metadata": {
    "collapsed": false
   },
   "outputs": [
    {
     "data": {
      "text/html": [
       "<div style=\"max-height:1000px;max-width:1500px;overflow:auto;\">\n",
       "<table border=\"1\" class=\"dataframe\">\n",
       "  <thead>\n",
       "    <tr style=\"text-align: right;\">\n",
       "      <th></th>\n",
       "      <th>Air</th>\n",
       "      <th>Fuel</th>\n",
       "    </tr>\n",
       "  </thead>\n",
       "  <tbody>\n",
       "    <tr>\n",
       "      <th>T</th>\n",
       "      <td> NaN</td>\n",
       "      <td> NaN</td>\n",
       "    </tr>\n",
       "    <tr>\n",
       "      <th>P</th>\n",
       "      <td> NaN</td>\n",
       "      <td> NaN</td>\n",
       "    </tr>\n",
       "    <tr>\n",
       "      <th>isLiq</th>\n",
       "      <td> NaN</td>\n",
       "      <td> NaN</td>\n",
       "    </tr>\n",
       "    <tr>\n",
       "      <th>MolarFlow_N2</th>\n",
       "      <td> NaN</td>\n",
       "      <td> NaN</td>\n",
       "    </tr>\n",
       "    <tr>\n",
       "      <th>MolarFlow_CO2</th>\n",
       "      <td> NaN</td>\n",
       "      <td> NaN</td>\n",
       "    </tr>\n",
       "    <tr>\n",
       "      <th>MolarFlow_CH4</th>\n",
       "      <td> NaN</td>\n",
       "      <td> NaN</td>\n",
       "    </tr>\n",
       "    <tr>\n",
       "      <th>MolarFlow_O2</th>\n",
       "      <td> NaN</td>\n",
       "      <td> NaN</td>\n",
       "    </tr>\n",
       "    <tr>\n",
       "      <th>MolarFlow_H2O</th>\n",
       "      <td> NaN</td>\n",
       "      <td> NaN</td>\n",
       "    </tr>\n",
       "    <tr>\n",
       "      <th>MolFr_N2</th>\n",
       "      <td> NaN</td>\n",
       "      <td> NaN</td>\n",
       "    </tr>\n",
       "    <tr>\n",
       "      <th>MolFr_CO2</th>\n",
       "      <td> NaN</td>\n",
       "      <td> NaN</td>\n",
       "    </tr>\n",
       "    <tr>\n",
       "      <th>MolFr_CH4</th>\n",
       "      <td> NaN</td>\n",
       "      <td> NaN</td>\n",
       "    </tr>\n",
       "    <tr>\n",
       "      <th>MolFr_O2</th>\n",
       "      <td> NaN</td>\n",
       "      <td> NaN</td>\n",
       "    </tr>\n",
       "    <tr>\n",
       "      <th>MolFr_H2O</th>\n",
       "      <td> NaN</td>\n",
       "      <td> NaN</td>\n",
       "    </tr>\n",
       "    <tr>\n",
       "      <th>TotMolFlow</th>\n",
       "      <td> NaN</td>\n",
       "      <td> NaN</td>\n",
       "    </tr>\n",
       "    <tr>\n",
       "      <th>TotMassFlow</th>\n",
       "      <td> NaN</td>\n",
       "      <td> NaN</td>\n",
       "    </tr>\n",
       "    <tr>\n",
       "      <th>Enthalpy</th>\n",
       "      <td> NaN</td>\n",
       "      <td> NaN</td>\n",
       "    </tr>\n",
       "    <tr>\n",
       "      <th>Entropy</th>\n",
       "      <td> NaN</td>\n",
       "      <td> NaN</td>\n",
       "    </tr>\n",
       "    <tr>\n",
       "      <th>Ncomps</th>\n",
       "      <td>   5</td>\n",
       "      <td>   5</td>\n",
       "    </tr>\n",
       "  </tbody>\n",
       "</table>\n",
       "</div>"
      ],
      "text/plain": [
       "               Air Fuel\n",
       "T              NaN  NaN\n",
       "P              NaN  NaN\n",
       "isLiq          NaN  NaN\n",
       "MolarFlow_N2   NaN  NaN\n",
       "MolarFlow_CO2  NaN  NaN\n",
       "MolarFlow_CH4  NaN  NaN\n",
       "MolarFlow_O2   NaN  NaN\n",
       "MolarFlow_H2O  NaN  NaN\n",
       "MolFr_N2       NaN  NaN\n",
       "MolFr_CO2      NaN  NaN\n",
       "MolFr_CH4      NaN  NaN\n",
       "MolFr_O2       NaN  NaN\n",
       "MolFr_H2O      NaN  NaN\n",
       "TotMolFlow     NaN  NaN\n",
       "TotMassFlow    NaN  NaN\n",
       "Enthalpy       NaN  NaN\n",
       "Entropy        NaN  NaN\n",
       "Ncomps           5    5"
      ]
     },
     "execution_count": 128,
     "metadata": {},
     "output_type": "execute_result"
    }
   ],
   "source": [
    "index =  [\"T\", \"P\", \"isLiq\"]\n",
    "index += [\"MolarFlow_%s\"%name for name in dict_compounds]\n",
    "index += [\"MolFr_%s\"%name for name in dict_compounds]\n",
    "index += [\"TotMolFlow\",\"TotMassFlow\",\"Enthalpy\",\"Entropy\"]\n",
    "index += [\"Ncomps\"]\n",
    "\n",
    "columns = [\"Air\",\"Fuel\"]\n",
    "df = pd.DataFrame(index=index, columns=columns)\n",
    "for col in df.columns:\n",
    "    df.loc[\"Ncomps\"][col] = len(dict_compounds)\n",
    "df"
   ]
  },
  {
   "cell_type": "markdown",
   "metadata": {},
   "source": [
    "So its empty.  Duh!  We have to fill it.  "
   ]
  },
  {
   "cell_type": "code",
   "execution_count": 131,
   "metadata": {
    "collapsed": false
   },
   "outputs": [],
   "source": [
    "df[\"Fuel\"][\"T\"] = 300 #K\n",
    "df[\"Fuel\"][\"P\"] = 1.013e5 #Pa\n",
    "df[\"Fuel\"][\"MolarFlow_CH4\"] = 1.0 #kmol/s\n",
    "df[\"Fuel\"][\"MolarFlow_N2\"] = 0.0\n",
    "df[\"Fuel\"][\"MolarFlow_O2\"] = 0.0\n",
    "df[\"Fuel\"][\"MolarFlow_CO2\"] = 0.0\n",
    "df[\"Fuel\"][\"MolarFlow_H2O\"] = 0.0\n",
    "df[\"Fuel\"][\"isLiq\"] = False\n",
    "\n",
    "df[\"Air\"][\"T\"] = 300 #K\n",
    "df[\"Air\"][\"P\"] = 1.013e5 #Pa\n",
    "df[\"Air\"][\"MolarFlow_CH4\"] = 0.0 #kmol/s\n",
    "df[\"Air\"][\"MolarFlow_N2\"] = 3.0/0.21*0.79\n",
    "df[\"Air\"][\"MolarFlow_O2\"] = 3.0\n",
    "df[\"Air\"][\"MolarFlow_CO2\"] = 0.0\n",
    "df[\"Air\"][\"MolarFlow_H2O\"] = 0.0\n",
    "df[\"Air\"][\"isLiq\"] = False\n",
    "\n",
    "#So what about mol fraction?  We have to write a function.\n",
    "def get_molfraction(stream):\n",
    "    ncomps = stream.loc[\"Ncomps\"]\n",
    "    molflow = stream.iloc[3:3+ncomps]\n",
    "    totmolflow = molflow.sum()\n",
    "    stream.loc[\"TotMolFlow\"] = totmolflow \n",
    "    stream.iloc[3+ncomps:3+2*ncomps] = (stream.iloc[3:3+ncomps]/stream.iloc[3:3+ncomps].sum()).values\n",
    "    return stream\n"
   ]
  },
  {
   "cell_type": "code",
   "execution_count": 132,
   "metadata": {
    "collapsed": false
   },
   "outputs": [
    {
     "data": {
      "text/html": [
       "<div style=\"max-height:1000px;max-width:1500px;overflow:auto;\">\n",
       "<table border=\"1\" class=\"dataframe\">\n",
       "  <thead>\n",
       "    <tr style=\"text-align: right;\">\n",
       "      <th></th>\n",
       "      <th>Air</th>\n",
       "      <th>Fuel</th>\n",
       "    </tr>\n",
       "  </thead>\n",
       "  <tbody>\n",
       "    <tr>\n",
       "      <th>T</th>\n",
       "      <td>      300</td>\n",
       "      <td>    300</td>\n",
       "    </tr>\n",
       "    <tr>\n",
       "      <th>P</th>\n",
       "      <td>   101300</td>\n",
       "      <td> 101300</td>\n",
       "    </tr>\n",
       "    <tr>\n",
       "      <th>isLiq</th>\n",
       "      <td>    False</td>\n",
       "      <td>  False</td>\n",
       "    </tr>\n",
       "    <tr>\n",
       "      <th>MolarFlow_N2</th>\n",
       "      <td> 11.28571</td>\n",
       "      <td>      0</td>\n",
       "    </tr>\n",
       "    <tr>\n",
       "      <th>MolarFlow_CO2</th>\n",
       "      <td>        0</td>\n",
       "      <td>      0</td>\n",
       "    </tr>\n",
       "    <tr>\n",
       "      <th>MolarFlow_CH4</th>\n",
       "      <td>        0</td>\n",
       "      <td>      1</td>\n",
       "    </tr>\n",
       "    <tr>\n",
       "      <th>MolarFlow_O2</th>\n",
       "      <td>        3</td>\n",
       "      <td>      0</td>\n",
       "    </tr>\n",
       "    <tr>\n",
       "      <th>MolarFlow_H2O</th>\n",
       "      <td>        0</td>\n",
       "      <td>      0</td>\n",
       "    </tr>\n",
       "    <tr>\n",
       "      <th>MolFr_N2</th>\n",
       "      <td>     0.79</td>\n",
       "      <td>      0</td>\n",
       "    </tr>\n",
       "    <tr>\n",
       "      <th>MolFr_CO2</th>\n",
       "      <td>        0</td>\n",
       "      <td>      0</td>\n",
       "    </tr>\n",
       "    <tr>\n",
       "      <th>MolFr_CH4</th>\n",
       "      <td>        0</td>\n",
       "      <td>      1</td>\n",
       "    </tr>\n",
       "    <tr>\n",
       "      <th>MolFr_O2</th>\n",
       "      <td>     0.21</td>\n",
       "      <td>      0</td>\n",
       "    </tr>\n",
       "    <tr>\n",
       "      <th>MolFr_H2O</th>\n",
       "      <td>        0</td>\n",
       "      <td>      0</td>\n",
       "    </tr>\n",
       "    <tr>\n",
       "      <th>TotMolFlow</th>\n",
       "      <td> 14.28571</td>\n",
       "      <td>      1</td>\n",
       "    </tr>\n",
       "    <tr>\n",
       "      <th>TotMassFlow</th>\n",
       "      <td>      NaN</td>\n",
       "      <td>    NaN</td>\n",
       "    </tr>\n",
       "    <tr>\n",
       "      <th>Enthalpy</th>\n",
       "      <td>      NaN</td>\n",
       "      <td>    NaN</td>\n",
       "    </tr>\n",
       "    <tr>\n",
       "      <th>Entropy</th>\n",
       "      <td>      NaN</td>\n",
       "      <td>    NaN</td>\n",
       "    </tr>\n",
       "    <tr>\n",
       "      <th>Ncomps</th>\n",
       "      <td>        5</td>\n",
       "      <td>      5</td>\n",
       "    </tr>\n",
       "  </tbody>\n",
       "</table>\n",
       "</div>"
      ],
      "text/plain": [
       "                    Air    Fuel\n",
       "T                   300     300\n",
       "P                101300  101300\n",
       "isLiq             False   False\n",
       "MolarFlow_N2   11.28571       0\n",
       "MolarFlow_CO2         0       0\n",
       "MolarFlow_CH4         0       1\n",
       "MolarFlow_O2          3       0\n",
       "MolarFlow_H2O         0       0\n",
       "MolFr_N2           0.79       0\n",
       "MolFr_CO2             0       0\n",
       "MolFr_CH4             0       1\n",
       "MolFr_O2           0.21       0\n",
       "MolFr_H2O             0       0\n",
       "TotMolFlow     14.28571       1\n",
       "TotMassFlow         NaN     NaN\n",
       "Enthalpy            NaN     NaN\n",
       "Entropy             NaN     NaN\n",
       "Ncomps                5       5"
      ]
     },
     "execution_count": 132,
     "metadata": {},
     "output_type": "execute_result"
    }
   ],
   "source": [
    "df = df.apply(get_molfraction)\n",
    "df"
   ]
  },
  {
   "cell_type": "code",
   "execution_count": null,
   "metadata": {
    "collapsed": true
   },
   "outputs": [],
   "source": []
  },
  {
   "cell_type": "code",
   "execution_count": null,
   "metadata": {
    "collapsed": true
   },
   "outputs": [],
   "source": []
  }
 ],
 "metadata": {
  "kernelspec": {
   "display_name": "Python 2",
   "language": "python",
   "name": "python2"
  },
  "language_info": {
   "codemirror_mode": {
    "name": "ipython",
    "version": 2
   },
   "file_extension": ".py",
   "mimetype": "text/x-python",
   "name": "python",
   "nbconvert_exporter": "python",
   "pygments_lexer": "ipython2",
   "version": "2.7.9"
  }
 },
 "nbformat": 4,
 "nbformat_minor": 0
}
