{
 "cells": [
  {
   "cell_type": "markdown",
   "metadata": {},
   "source": [
    "# Inheritance"
   ]
  },
  {
   "cell_type": "markdown",
   "metadata": {},
   "source": [
    "It is sometimes nice to have an object that builds on another object.  For example, in our perrysdata.Compound class, we have not programmed for getting ideal gas free energy, enthalpy or entropy.  But these are so commonly used that it would be a good idea to put them in.  Pretend that, for whatever reason, we cannot modify the original class.  So we make a new class into which we <i>inherit</i> the old class.  "
   ]
  },
  {
   "cell_type": "code",
   "execution_count": 4,
   "metadata": {
    "collapsed": true
   },
   "outputs": [],
   "source": [
    "# import scipy and perrydata.Compound\n",
    "import scipy\n",
    "import scipy.integrate as scint\n",
    "from perrysdata import Compound"
   ]
  },
  {
   "cell_type": "code",
   "execution_count": 15,
   "metadata": {
    "collapsed": false
   },
   "outputs": [],
   "source": [
    "#Now lets inherit\n",
    "class CompoundH(Compound):  #See how the class line takes an argument?  The argument is the parent.  This class is the child. \n",
    "    def __init__(self, name):\n",
    "        Compound.__init__(self, name)  #This calls the constructor of the Parent class. \n",
    "    def Hig(self, T):  #Enthalpy of ideal gases is a function of T alone (this is not in Parent class)\n",
    "        Tf = self.Tf #Reference temperature (from Parent Class)\n",
    "        Hf = self.Hf #Enthalpy of formation (from Parent Class)\n",
    "        Cp = self.CpIG #Ideal gas heat capacity function from Parent class (not how we assigned the function to a pointer)\n",
    "        Hig = Hf + scint.quad(Cp, Tf, T)[0] #Integrate Cp from Tf to T.  Note: Quad returns a 2 element tuple.  The first element is the integral\n",
    "        return Hig"
   ]
  },
  {
   "cell_type": "code",
   "execution_count": 29,
   "metadata": {
    "collapsed": false
   },
   "outputs": [
    {
     "name": "stdout",
     "output_type": "stream",
     "text": [
      "Hig = -78559547.1031 J/kmol\n",
      "Hig from class = -78559547.1031 J/kmol\n"
     ]
    }
   ],
   "source": [
    "#Lets see if it works!  \n",
    "if __name__ == \"__main__\": #Guess why this is here!\n",
    "    methane = CompoundH(\"Methane\")\n",
    "    Tf = methane.Tf  #Old parent class\n",
    "    Hf = methane.Hf\n",
    "    Cp = methane.CpIG\n",
    "    T = 180.0 #K\n",
    "    Hig = Hf + scint.quad(Cp, Tf, T)[0]\n",
    "    print 'Hig = {} J/kmol'.format(Hig)\n",
    "    print 'Hig from class = {} J/kmol'.format(methane.Hig(T))"
   ]
  },
  {
   "cell_type": "code",
   "execution_count": 22,
   "metadata": {
    "collapsed": true
   },
   "outputs": [],
   "source": [
    "#Great, lets progam in the function for Sig and Gig.  But lets not modify the above class.  Lets inherit some more.\n",
    "class CompoundHSG(CompoundH): #Awwwww! Our little child is all grown up!!  It has a child of it own. How cute!!!\n",
    "    def __init__(self, name):\n",
    "        CompoundH.__init__(self, name)\n",
    "    def Sig(self, T, P):  #Entropy needs a pressure!\n",
    "        Tf = self.Tf\n",
    "        Pf = self.Pf\n",
    "        Sf = self.Sf\n",
    "        Cp = self.CpIG\n",
    "        R = 8314.0 #J/kmol-K\n",
    "        Sig = Sf + scint.quad(lambda T:Cp(T)/T, Tf, T)[0] - R*scipy.log(P/Pf)\n",
    "        return Sig\n",
    "    def Gig(self, T, P):\n",
    "        Hig = self.Hig(T) #our inheritance!\n",
    "        Sig = self.Sig(T, P)\n",
    "        Gig = Hig - T*Sig\n",
    "        return Gig"
   ]
  },
  {
   "cell_type": "code",
   "execution_count": 30,
   "metadata": {
    "collapsed": false
   },
   "outputs": [
    {
     "name": "stdout",
     "output_type": "stream",
     "text": [
      "Ideal gas Enthalpy, Entropy and Free Energy as -78.5595471031 MJ/kmol, -97.9115837737 kJ/kmol and -60.9354620238 MJ/kmol respectively.\n",
      " \n",
      "Ideal gas Enthalpy, Entropy and Free Energy as -78.56 MJ/kmol, -97.91 kJ/kmol and -60.94 MJ/kmol respectively.\n"
     ]
    }
   ],
   "source": [
    "if __name__ == \"__main__\":\n",
    "    methane = CompoundHSG(\"Methane\")\n",
    "    T = 180.0#K\n",
    "    P = 1.013e5 #Pa\n",
    "    Hig = methane.Hig(T)\n",
    "    Sig = methane.Sig(T, P)\n",
    "    Gig = methane.Gig(T, P)\n",
    "    print \"Ideal gas Enthalpy, Entropy and Free Energy as {} MJ/kmol, {} kJ/kmol and {} MJ/kmol respectively.\".format(Hig/1e6,\n",
    "                                                                                                                      Sig/1e3,\n",
    "                                                                                                                      Gig/1e6)\n",
    "    print \" \"\n",
    "    print \"Ideal gas Enthalpy, Entropy and Free Energy as %.2f MJ/kmol, %.2f kJ/kmol and %6.2f MJ/kmol respectively.\"%(Hig/1e6,\n",
    "                                                                                                                      Sig/1e3,\n",
    "                                                                                                                      Gig/1e6)"
   ]
  },
  {
   "cell_type": "markdown",
   "metadata": {},
   "source": [
    "## Modifying the EOS class\n",
    "Incorporating this new CompoundHSG class in the EOS class is simplicity itself."
   ]
  },
  {
   "cell_type": "code",
   "execution_count": 28,
   "metadata": {
    "collapsed": true
   },
   "outputs": [],
   "source": [
    "from eosClass import EOS as EOS_Parent"
   ]
  },
  {
   "cell_type": "code",
   "execution_count": 35,
   "metadata": {
    "collapsed": false
   },
   "outputs": [
    {
     "name": "stdout",
     "output_type": "stream",
     "text": [
      "Ideal gas Enthalpy, Entropy and Free Energy as -78.56 MJ/kmol, -97.91 kJ/kmol and -60.94 MJ/kmol respectively.\n",
      " \n",
      "Vapour pressure from correlation is 32.89 bar but from srk-EOS is 33.17 bar\n"
     ]
    }
   ],
   "source": [
    "if __name__ == \"__main__\":\n",
    "    methane = CompoundHSG(\"Methane\")\n",
    "    methane = EOS_Parent(methane) #See!  That easy!\n",
    "    T = 180.0#K\n",
    "    P = 1.013e5 #Pa\n",
    "\n",
    "    Hig = methane.Molecule.Hig(T)    #Here we see an attribution chain\n",
    "    Sig = methane.Molecule.Sig(T, P)\n",
    "    Gig = methane.Molecule.Gig(T, P)\n",
    "    print \"Ideal gas Enthalpy, Entropy and Free Energy as %.2f MJ/kmol, %.2f kJ/kmol and %6.2f MJ/kmol respectively.\"%(Hig/1e6,\n",
    "                                                                                                                      Sig/1e3,\n",
    "                                                                                                                      Gig/1e6)\n",
    "    print \" \"\n",
    "    methane.setEOS('srk')\n",
    "    print \"Vapour pressure from correlation is %.2f bar but from srk-EOS is %.2f bar\"%(methane.Molecule.Pvap(T)*1e-5,\n",
    "                                                                                     methane.Psat(T)[1]*1e-5)"
   ]
  },
  {
   "cell_type": "markdown",
   "metadata": {},
   "source": [
    "But lets <i>modify</i> the EOS class itself to calculate non-ideal enthalpies, entropies and free energies"
   ]
  },
  {
   "cell_type": "code",
   "execution_count": 40,
   "metadata": {
    "collapsed": true
   },
   "outputs": [],
   "source": [
    "import scipy.misc as scmisc\n",
    "class EOS(EOS_Parent):\n",
    "    def __init__(self, molecule):\n",
    "        EOS_Parent.__init__(self, molecule)\n",
    "    def sR(self, T, P, Z):\n",
    "        P = 1e-20 if P == 0.0 else P    \n",
    "        dalphabydT = scmisc.derivative(self.alpha, T, dx = 1e-6) \n",
    "        a, b, c, d = self.a, self.b, self.c, self.d\n",
    "        disc = (c+d)**2 + 4*c*d; disc = disc.real\n",
    "        A = 0.5*(c+d+scipy.sqrt(disc))\n",
    "        B = 0.5*(c+d-scipy.sqrt(disc))\n",
    "        R = self.R\n",
    "        PRT = P/(R*T)\n",
    "        S = R*scipy.log(Z - b*PRT) + a*dalphabydT/(A - B)*scipy.log((Z+A*PRT)/(Z+B*PRT))\n",
    "        return S.real\n",
    "    def hR(self, T, P, Z):\n",
    "        P = 1e-20 if P == 0.0 else P \n",
    "        alpha = self.alpha(T)\n",
    "        dalphabydT = scmisc.derivative(self.alpha, T, dx = 1e-6) \n",
    "        a, b, c, d = self.a, self.b, self.c, self.d\n",
    "        disc = (c+d)**2 + 4*c*d; disc = disc.real\n",
    "        A = 0.5*(c+d+scipy.sqrt(disc))\n",
    "        B = 0.5*(c+d-scipy.sqrt(disc))\n",
    "        R = self.R\n",
    "        PRT = P/(R*T)\n",
    "        H = R*T*(Z - 1) - a*(alpha - T*dalphabydT)/(A - B)*scipy.log((Z+A*PRT)/(Z+B*PRT))\n",
    "        return H.real\n",
    "    def H(self, T, P, Z):\n",
    "        hR = self.hR(T, P, Z)\n",
    "        hig = self.Molecule.Hig(T)\n",
    "        return hig+hR\n",
    "    def S(self, T, P, Z):\n",
    "        sR = self.sR(T, P, Z)\n",
    "        sig = self.Molecule.Sig(T, P)\n",
    "        return sig+sR\n",
    "    def G(self, T, P, Z):\n",
    "        gR = self.gR(T, P, Z)\n",
    "        gig = self.Molecule.Gig(T, P)\n",
    "        return gig+gR\n"
   ]
  },
  {
   "cell_type": "code",
   "execution_count": 50,
   "metadata": {
    "collapsed": false
   },
   "outputs": [
    {
     "name": "stdout",
     "output_type": "stream",
     "text": [
      "Residual Liquid Enthalpy, Entropy and Free Energy is -5.65 MJ/kmol, -28.61 kJ/kmol and -0.50 MJ/kmol respectively\n",
      "\n",
      "Residual Vapour Enthalpy, Entropy and Free Energy is -1.93 MJ/kmol, -7.93 kJ/kmol and -0.50 MJ/kmol respectively\n",
      "\n",
      "Enthalpy of vapourization by correlation is 4.04 MJ/kmol but from srk_EOS is 3.72 MJ/kmol\n"
     ]
    }
   ],
   "source": [
    "if __name__ == \"__main__\":\n",
    "    methane = CompoundHSG(\"Methane\")\n",
    "    methane = EOS(methane) \n",
    "    methane.setEOS('srk')\n",
    "    T = 180.0#K\n",
    "    P = methane.Psat(T)[1]\n",
    "    [ZL, ZG] = methane.Z(T, P)\n",
    "    print \"Residual Liquid Enthalpy, Entropy and Free Energy is %.2f MJ/kmol, %.2f kJ/kmol and %.2f MJ/kmol respectively\"%(methane.hR(T, P, ZL)*1e-6,\n",
    "                                                                                                                           methane.sR(T, P, ZL)*1e-3,\n",
    "                                                                                                                           methane.gR(T, P, ZL)*1e-6)\n",
    "    print \"\"\n",
    "    print \"Residual Vapour Enthalpy, Entropy and Free Energy is %.2f MJ/kmol, %.2f kJ/kmol and %.2f MJ/kmol respectively\"%(methane.hR(T, P, ZG)*1e-6,\n",
    "                                                                                                                           methane.sR(T, P, ZG)*1e-3,\n",
    "                                                                                                                           methane.gR(T, P, ZG)*1e-6)\n",
    "    print \"\"\n",
    "    Hvap = methane.Molecule.Hvap(T)\n",
    "    HL = methane.H(T, P, ZL); HG = methane.H(T, P, ZG)\n",
    "    Hsat = HG - HL\n",
    "    print \"Enthalpy of vapourization by correlation is %.2f MJ/kmol but from %s_EOS is %.2f MJ/kmol\"%(Hvap/1e6, \n",
    "                                                                                                     methane.typeeos,\n",
    "                                                                                                     Hsat/1e6)"
   ]
  },
  {
   "cell_type": "markdown",
   "metadata": {},
   "source": [
    "# Conclusion\n",
    "Now that we are happy with our code, lets write a small \"wrapper\" to present a useful object to other users."
   ]
  },
  {
   "cell_type": "code",
   "execution_count": 53,
   "metadata": {
    "collapsed": true
   },
   "outputs": [],
   "source": [
    "def getCompound(name, typeeos):\n",
    "    comp = CompoundHSG(name)\n",
    "    comp = EOS(comp)\n",
    "    comp.setEOS(typeeos)\n",
    "    return comp"
   ]
  },
  {
   "cell_type": "markdown",
   "metadata": {},
   "source": [
    "Now download this as a \".py\" file (see Download As in File menu) and place it in this folder."
   ]
  },
  {
   "cell_type": "code",
   "execution_count": null,
   "metadata": {
    "collapsed": true
   },
   "outputs": [],
   "source": []
  }
 ],
 "metadata": {
  "kernelspec": {
   "display_name": "Python 2",
   "language": "python",
   "name": "python2"
  },
  "language_info": {
   "codemirror_mode": {
    "name": "ipython",
    "version": 2
   },
   "file_extension": ".py",
   "mimetype": "text/x-python",
   "name": "python",
   "nbconvert_exporter": "python",
   "pygments_lexer": "ipython2",
   "version": "2.7.9"
  }
 },
 "nbformat": 4,
 "nbformat_minor": 0
}
