{
 "cells": [
  {
   "cell_type": "markdown",
   "metadata": {},
   "source": [
    "# Cubic EOS "
   ]
  },
  {
   "cell_type": "code",
   "execution_count": 4,
   "metadata": {
    "collapsed": false
   },
   "outputs": [
    {
     "name": "stdout",
     "output_type": "stream",
     "text": [
      "IPython console for SymPy 0.7.6 (Python 2.7.9-32-bit) (ground types: python)\n",
      "\n",
      "These commands were executed:\n",
      ">>> from __future__ import division\n",
      ">>> from sympy import *\n",
      ">>> x, y, z, t = symbols('x y z t')\n",
      ">>> k, m, n = symbols('k m n', integer=True)\n",
      ">>> f, g, h = symbols('f g h', cls=Function)\n",
      ">>> init_printing()\n",
      "\n",
      "Documentation can be found at http://www.sympy.org\n"
     ]
    }
   ],
   "source": [
    "from sympy import init_session\n",
    "init_session()"
   ]
  },
  {
   "cell_type": "code",
   "execution_count": 5,
   "metadata": {
    "collapsed": false
   },
   "outputs": [],
   "source": [
    "P, v, R, T, OmegaA, OmegaB, OmegaC, OmegaD, a, b, c,  d, Tc, Pc, alpha = symbols('P, v, R, T, Omega_A, Omega_B, Omega_C, Omega_D, a, b, c, d, T_c, P_c, alpha')\n",
    "Z, Zc = symbols('Z, Z_c')"
   ]
  },
  {
   "cell_type": "code",
   "execution_count": 6,
   "metadata": {
    "collapsed": false
   },
   "outputs": [
    {
     "data": {
      "text/plain": [
       "P**3*b*c*d/(R**3*T**3) + P**2*c*d/(R**2*T**2) - P**2*a*alpha*b/(R**3*T**3) + Z**3 + Z**2*(-P*b/(R*T) + P*c/(R*T) + P*d/(R*T) - 1) + Z*(-P**2*b*c/(R**2*T**2) - P**2*b*d/(R**2*T**2) - P**2*c*d/(R**2*T**2) - P*c/(R*T) - P*d/(R*T) + P*a*alpha/(R**2*T**2))"
      ]
     },
     "execution_count": 6,
     "metadata": {},
     "output_type": "execute_result"
    }
   ],
   "source": [
    "RHS = R*T/(v-b) - a*alpha/(v**2+(d+c)*v-d*c)\n",
    "RHSf = fraction(together(RHS)); nr = RHSf[0]; dr = RHSf[1]*P\n",
    "expr = expand(dr) - expand(nr)\n",
    "expr = collect(expr.subs(v, Z*R*T/P), Z); z3 = expr.coeff(Z, 3); expr = collect(expand(expr/z3),Z); expr\n"
   ]
  },
  {
   "cell_type": "markdown",
   "metadata": {},
   "source": [
    "When the critical point is reached, the above expression must have three equal roots.  A cubic with roots $\\alpha, \\beta, \\gamma$ can be written as: $x^3-(\\alpha+\\beta+\\gamma)x^2+(\\alpha\\beta+\\beta\\gamma+\\alpha\\gamma)x-\\alpha\\beta\\gamma$. Hence for three equal roots, the cube root of the negative of the constant coefficient is a root and or the root the negative one third of the coefficient of the quadratic term:"
   ]
  },
  {
   "cell_type": "code",
   "execution_count": 7,
   "metadata": {
    "collapsed": false
   },
   "outputs": [
    {
     "data": {
      "text/plain": [
       "3*Z_c == P*b/(R*T) - P*c/(R*T) - P*d/(R*T) + 1"
      ]
     },
     "execution_count": 7,
     "metadata": {},
     "output_type": "execute_result"
    }
   ],
   "source": [
    "sumabc = -expr.coeff(Z,2); Eq(3*Zc, sumabc)"
   ]
  },
  {
   "cell_type": "markdown",
   "metadata": {},
   "source": [
    "And product of the roots is cube of Zc:"
   ]
  },
  {
   "cell_type": "code",
   "execution_count": 8,
   "metadata": {
    "collapsed": false
   },
   "outputs": [
    {
     "data": {
      "text/plain": [
       "Z_c**3 == -P**3*b*c*d/(R**3*T**3) - P**2*c*d/(R**2*T**2) + P**2*a*alpha*b/(R**3*T**3)"
      ]
     },
     "execution_count": 8,
     "metadata": {},
     "output_type": "execute_result"
    }
   ],
   "source": [
    "prodabc = -expr.coeff(Z, 0); Eq(Zc**3, prodabc)"
   ]
  },
  {
   "cell_type": "code",
   "execution_count": 9,
   "metadata": {
    "collapsed": false
   },
   "outputs": [
    {
     "data": {
      "text/plain": [
       "3*Z_c**2 == -P**2*b*c/(R**2*T**2) - P**2*b*d/(R**2*T**2) - P**2*c*d/(R**2*T**2) - P*c/(R*T) - P*d/(R*T) + P*a*alpha/(R**2*T**2)"
      ]
     },
     "execution_count": 9,
     "metadata": {},
     "output_type": "execute_result"
    }
   ],
   "source": [
    "pairsumabc = expr.coeff(Z,1); Eq(3*Zc**2, pairsumabc)"
   ]
  },
  {
   "cell_type": "markdown",
   "metadata": {},
   "source": [
    "However, since we know that: "
   ]
  },
  {
   "cell_type": "code",
   "execution_count": 10,
   "metadata": {
    "collapsed": false
   },
   "outputs": [
    {
     "data": {
      "text/plain": [
       "a == Omega_A*R**2*T_c**2/P_c"
      ]
     },
     "execution_count": 10,
     "metadata": {},
     "output_type": "execute_result"
    }
   ],
   "source": [
    "aa = OmegaA*(R*Tc)**2/Pc; Eq(a, aa)"
   ]
  },
  {
   "cell_type": "code",
   "execution_count": 11,
   "metadata": {
    "collapsed": false
   },
   "outputs": [
    {
     "data": {
      "text/plain": [
       "b == Omega_B*R*T_c/P_c"
      ]
     },
     "execution_count": 11,
     "metadata": {},
     "output_type": "execute_result"
    }
   ],
   "source": [
    "bb = OmegaB*R*Tc/Pc; Eq(b, bb)"
   ]
  },
  {
   "cell_type": "code",
   "execution_count": 12,
   "metadata": {
    "collapsed": false
   },
   "outputs": [
    {
     "data": {
      "text/plain": [
       "c == Omega_C*R*T_c/P_c"
      ]
     },
     "execution_count": 12,
     "metadata": {},
     "output_type": "execute_result"
    }
   ],
   "source": [
    "cc = OmegaC*R*Tc/Pc; Eq(c, cc)"
   ]
  },
  {
   "cell_type": "code",
   "execution_count": 13,
   "metadata": {
    "collapsed": false
   },
   "outputs": [
    {
     "data": {
      "text/plain": [
       "d == Omega_D*R*T_c/P_c"
      ]
     },
     "execution_count": 13,
     "metadata": {},
     "output_type": "execute_result"
    }
   ],
   "source": [
    "dd = OmegaD*R*Tc/Pc; Eq(d, dd)"
   ]
  },
  {
   "cell_type": "code",
   "execution_count": 14,
   "metadata": {
    "collapsed": false
   },
   "outputs": [
    {
     "data": {
      "text/plain": [
       "Omega_B*P*T_c/(P_c*T) - Omega_C*P*T_c/(P_c*T) - Omega_D*P*T_c/(P_c*T) + 1"
      ]
     },
     "execution_count": 14,
     "metadata": {},
     "output_type": "execute_result"
    }
   ],
   "source": [
    "sumabc = sumabc.subs(a, aa).subs(b, bb).subs(c, cc).subs(d, dd); sumabc"
   ]
  },
  {
   "cell_type": "markdown",
   "metadata": {},
   "source": [
    "Hence at the critical point:"
   ]
  },
  {
   "cell_type": "code",
   "execution_count": 15,
   "metadata": {
    "collapsed": false
   },
   "outputs": [
    {
     "data": {
      "text/plain": [
       "Omega_B - Omega_C - Omega_D + 1"
      ]
     },
     "execution_count": 15,
     "metadata": {},
     "output_type": "execute_result"
    }
   ],
   "source": [
    "sumabc = sumabc.subs(T, Tc).subs(P, Pc).subs(alpha, 1); sumabc"
   ]
  },
  {
   "cell_type": "code",
   "execution_count": 16,
   "metadata": {
    "collapsed": false
   },
   "outputs": [
    {
     "data": {
      "text/plain": [
       "Omega_A - Omega_B*Omega_C - Omega_B*Omega_D - Omega_C*Omega_D - Omega_C - Omega_D"
      ]
     },
     "execution_count": 16,
     "metadata": {},
     "output_type": "execute_result"
    }
   ],
   "source": [
    "pairsumabc = pairsumabc.subs(a,aa).subs(b,bb).subs(c,cc).subs(d,dd).subs(T,Tc).subs(P, Pc).subs(alpha, 1); pairsumabc"
   ]
  },
  {
   "cell_type": "code",
   "execution_count": 17,
   "metadata": {
    "collapsed": false
   },
   "outputs": [
    {
     "data": {
      "text/plain": [
       "Omega_A*Omega_B - Omega_B*Omega_C*Omega_D - Omega_C*Omega_D"
      ]
     },
     "execution_count": 17,
     "metadata": {},
     "output_type": "execute_result"
    }
   ],
   "source": [
    "prodabc = prodabc.subs(a,aa).subs(b,bb).subs(c,cc).subs(d,dd).subs(T,Tc).subs(P, Pc).subs(alpha, 1); prodabc"
   ]
  },
  {
   "cell_type": "markdown",
   "metadata": {},
   "source": [
    "Hence, "
   ]
  },
  {
   "cell_type": "code",
   "execution_count": 18,
   "metadata": {
    "collapsed": false
   },
   "outputs": [
    {
     "data": {
      "text/plain": [
       "3*Z_c == Omega_B - Omega_C - Omega_D + 1"
      ]
     },
     "execution_count": 18,
     "metadata": {},
     "output_type": "execute_result"
    }
   ],
   "source": [
    "Eq(Zc*3, sumabc)"
   ]
  },
  {
   "cell_type": "markdown",
   "metadata": {},
   "source": [
    "Hence:"
   ]
  },
  {
   "cell_type": "code",
   "execution_count": 19,
   "metadata": {
    "collapsed": false
   },
   "outputs": [
    {
     "data": {
      "text/plain": [
       "3*Z_c**2 == Omega_A - Omega_B*Omega_C - Omega_B*Omega_D - Omega_C*Omega_D - Omega_C - Omega_D"
      ]
     },
     "execution_count": 19,
     "metadata": {},
     "output_type": "execute_result"
    }
   ],
   "source": [
    "Eq(3*Zc**2, pairsumabc)"
   ]
  },
  {
   "cell_type": "code",
   "execution_count": 20,
   "metadata": {
    "collapsed": false
   },
   "outputs": [
    {
     "data": {
      "text/plain": [
       "Z_c**3 == Omega_A*Omega_B - Omega_B*Omega_C*Omega_D - Omega_C*Omega_D"
      ]
     },
     "execution_count": 20,
     "metadata": {},
     "output_type": "execute_result"
    }
   ],
   "source": [
    "Eq(Zc**3, prodabc)"
   ]
  },
  {
   "cell_type": "markdown",
   "metadata": {},
   "source": [
    "Hence,"
   ]
  },
  {
   "cell_type": "code",
   "execution_count": 21,
   "metadata": {
    "collapsed": false
   },
   "outputs": [
    {
     "data": {
      "text/plain": [
       "Omega_C == Omega_B - Omega_D - 3*Z_c + 1"
      ]
     },
     "execution_count": 21,
     "metadata": {},
     "output_type": "execute_result"
    }
   ],
   "source": [
    "omgC = sumabc-3*Zc+OmegaC\n",
    "Eq(OmegaC, omgC)"
   ]
  },
  {
   "cell_type": "markdown",
   "metadata": {},
   "source": [
    "And"
   ]
  },
  {
   "cell_type": "code",
   "execution_count": 22,
   "metadata": {
    "collapsed": false
   },
   "outputs": [
    {
     "data": {
      "text/plain": [
       "Omega_A == Omega_B*Omega_C + Omega_B*Omega_D + Omega_C*Omega_D + Omega_C + Omega_D + 3*Z_c**2"
      ]
     },
     "execution_count": 22,
     "metadata": {},
     "output_type": "execute_result"
    }
   ],
   "source": [
    "omgA = 3*Zc**2-pairsumabc+OmegaA\n",
    "Eq(OmegaA, omgA)"
   ]
  },
  {
   "cell_type": "markdown",
   "metadata": {},
   "source": [
    "Hence, from the last equation we have the following cubic in $\\Omega_B$."
   ]
  },
  {
   "cell_type": "code",
   "execution_count": 23,
   "metadata": {
    "collapsed": false
   },
   "outputs": [
    {
     "data": {
      "text/plain": [
       "Omega_B**3 - 3*Omega_B**2*Z_c + 2*Omega_B**2 + 3*Omega_B*Z_c**2 - 3*Omega_B*Z_c + Omega_B + Omega_D**2 + Omega_D*(-Omega_B + 3*Z_c - 1) - Z_c**3"
      ]
     },
     "execution_count": 23,
     "metadata": {},
     "output_type": "execute_result"
    }
   ],
   "source": [
    "cubD = prodabc - Zc**3\n",
    "cubD = expand(cubD.subs(OmegaA, omgA).subs(OmegaC, omgC))\n",
    "cubD = collect(cubD, OmegaD)\n",
    "cubD"
   ]
  },
  {
   "cell_type": "code",
   "execution_count": null,
   "metadata": {
    "collapsed": true
   },
   "outputs": [],
   "source": []
  },
  {
   "cell_type": "code",
   "execution_count": null,
   "metadata": {
    "collapsed": true
   },
   "outputs": [],
   "source": []
  }
 ],
 "metadata": {
  "kernelspec": {
   "display_name": "Python 2",
   "language": "python",
   "name": "python2"
  },
  "language_info": {
   "codemirror_mode": {
    "name": "ipython",
    "version": 2
   },
   "file_extension": ".py",
   "mimetype": "text/x-python",
   "name": "python",
   "nbconvert_exporter": "python",
   "pygments_lexer": "ipython2",
   "version": "2.7.9"
  }
 },
 "nbformat": 4,
 "nbformat_minor": 0
}
